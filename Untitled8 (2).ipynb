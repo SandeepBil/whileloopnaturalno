{
  "nbformat": 4,
  "nbformat_minor": 0,
  "metadata": {
    "colab": {
      "provenance": []
    },
    "kernelspec": {
      "name": "python3",
      "display_name": "Python 3"
    },
    "language_info": {
      "name": "python"
    }
  },
  "cells": [
    {
      "cell_type": "code",
      "source": [
        "x = str(input(\"enter a string\"))\n",
        "n = \" \"\n",
        "for i in x:\n",
        "  n = i + n\n",
        "print(n)\n",
        "if x == n:\n",
        "  print(\"palindrome\")\n",
        "else:\n",
        "  print(\"not palindrome\")\n",
        "\n",
        "\n",
        "\n"
      ],
      "metadata": {
        "colab": {
          "base_uri": "https://localhost:8080/"
        },
        "id": "Ar5Rw-91skN8",
        "outputId": "fe1986bf-4f41-4e4d-9afe-095828ae8658"
      },
      "execution_count": 28,
      "outputs": [
        {
          "output_type": "stream",
          "name": "stdout",
          "text": [
            "enter a stringwow\n",
            "wow \n",
            "not palindrome\n"
          ]
        }
      ]
    },
    {
      "cell_type": "code",
      "source": [],
      "metadata": {
        "id": "4lwg4zRnvsct"
      },
      "execution_count": null,
      "outputs": []
    }
  ]
}