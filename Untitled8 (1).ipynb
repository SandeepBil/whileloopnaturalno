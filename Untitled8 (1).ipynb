{
  "nbformat": 4,
  "nbformat_minor": 0,
  "metadata": {
    "colab": {
      "provenance": []
    },
    "kernelspec": {
      "name": "python3",
      "display_name": "Python 3"
    },
    "language_info": {
      "name": "python"
    }
  },
  "cells": [
    {
      "cell_type": "code",
      "source": [
        "x = input()\n",
        "digit=0\n",
        "alphabet = 0\n",
        "for i in x:\n",
        "    if i.isdigit():\n",
        "        digit+=1\n",
        "    elif i.isalpha():\n",
        "        alphabet+=1\n",
        "print(digit)\n",
        "print(alphabet)\n"
      ],
      "metadata": {
        "colab": {
          "base_uri": "https://localhost:8080/"
        },
        "id": "dPSvhvB4rM3A",
        "outputId": "6f15f44e-edea-4a4c-e628-4cbbf8a2eb3b"
      },
      "execution_count": 13,
      "outputs": [
        {
          "output_type": "stream",
          "name": "stdout",
          "text": [
            "BCA2023B\n",
            "4\n",
            "4\n"
          ]
        }
      ]
    },
    {
      "cell_type": "code",
      "source": [],
      "metadata": {
        "id": "Ar5Rw-91skN8"
      },
      "execution_count": null,
      "outputs": []
    }
  ]
}